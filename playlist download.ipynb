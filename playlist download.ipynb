{
 "cells": [
  {
   "cell_type": "code",
   "execution_count": null,
   "metadata": {},
   "outputs": [],
   "source": [
    "from pytube import YouTube, Playlist\n",
    "import os\n",
    "import moviepy.editor as mp\n",
    "import re\n",
    "from datetime import datetime\n",
    "from pydub import AudioSegment"
   ]
  },
  {
   "cell_type": "markdown",
   "metadata": {},
   "source": [
    "## Download"
   ]
  },
  {
   "cell_type": "code",
   "execution_count": null,
   "metadata": {},
   "outputs": [],
   "source": [
    "def download_playlist(playlist_url, output_folder):\n",
    "    playlist = Playlist(playlist_url)\n",
    "    os.makedirs(output_folder, exist_ok=True)\n",
    "    \n",
    "    for url in playlist:\n",
    "        video = YouTube(url)\n",
    "        stream = video.streams.filter(file_extension=\"mp4\", only_audio=True).first()\n",
    "        if stream:\n",
    "            print(f\"Downloading: {video.title}\")\n",
    "            stream.download(output_folder)"
   ]
  },
  {
   "cell_type": "code",
   "execution_count": null,
   "metadata": {},
   "outputs": [],
   "source": [
    "\"\"\"\n",
    "https://www.youtube.com/playlist?list=OLAK5uy_kPDvluNCWxQRPSQ1AQcucdraAu-UfxPt0\n",
    "\"\"\""
   ]
  },
  {
   "cell_type": "code",
   "execution_count": null,
   "metadata": {},
   "outputs": [],
   "source": [
    "playlist_url = input(\"Enter the YouTube playlist URL: \")\n",
    "current_time = datetime.now().strftime(\"%H_%M_%S\")\n",
    "output_folder = f\"new_down_{current_time}\""
   ]
  },
  {
   "cell_type": "code",
   "execution_count": null,
   "metadata": {},
   "outputs": [],
   "source": [
    "download_playlist(playlist_url, output_folder)"
   ]
  },
  {
   "cell_type": "markdown",
   "metadata": {},
   "source": [
    "## Convert"
   ]
  },
  {
   "cell_type": "code",
   "execution_count": null,
   "metadata": {},
   "outputs": [],
   "source": [
    "def convert_to_mp3(folder):\n",
    "    current_directory = os.getcwd()\n",
    "    subfolder_path = os.path.join(current_directory, output_folder)\n",
    "    subfolder_items = os.listdir(subfolder_path)\n",
    "\n",
    "    files_sorted_by_creation = sorted(\n",
    "        [item for item in subfolder_items if os.path.isfile(os.path.join(subfolder_path, item))],\n",
    "        key=lambda item: os.path.getctime(os.path.join(subfolder_path, item))\n",
    "    )\n",
    "\n",
    "    mp3s_subfolder_path = os.path.join(subfolder_path, \"mp3s\")\n",
    "    os.makedirs(mp3s_subfolder_path, exist_ok=True)\n",
    "\n",
    "    for file in files_sorted_by_creation:\n",
    "        if re.search('.mp4', file):\n",
    "            mp4_path = os.path.join(folder, file)\n",
    "            mp3_filename = os.path.splitext(file)[0] + '.mp3'\n",
    "            mp3_path = os.path.join(mp3s_subfolder_path, mp3_filename)\n",
    "            new_file = mp.AudioFileClip(mp4_path)\n",
    "            new_file.write_audiofile(mp3_path)"
   ]
  },
  {
   "cell_type": "code",
   "execution_count": null,
   "metadata": {},
   "outputs": [],
   "source": [
    "convert_to_mp3(output_folder)\n",
    "print(\"Playlist downloaded and converted to MP3 successfully.\")"
   ]
  },
  {
   "cell_type": "markdown",
   "metadata": {},
   "source": [
    "## Merge"
   ]
  },
  {
   "cell_type": "code",
   "execution_count": null,
   "metadata": {},
   "outputs": [],
   "source": [
    "def merge_mp3_files(input_folder, output_file):\n",
    "    input_folder = input_folder + \"/mp3s\"\n",
    "    subfolder_items = os.listdir(input_folder)\n",
    "    files_sorted_by_creation = sorted(\n",
    "        [item for item in subfolder_items if os.path.isfile(os.path.join(input_folder, item))],\n",
    "        key=lambda item: os.path.getctime(os.path.join(input_folder, item))\n",
    "    )\n",
    "\n",
    "    merged_audio = AudioSegment.silent(duration=0)\n",
    "\n",
    "    for idx, file in enumerate(files_sorted_by_creation):\n",
    "        print(\"merging\", file)\n",
    "        audio = AudioSegment.from_mp3(os.path.join(input_folder, file))\n",
    "        if idx > 0:\n",
    "            silence = AudioSegment.silent(duration=1000)  # 1 second silence\n",
    "            merged_audio += silence\n",
    "        merged_audio += audio\n",
    "\n",
    "    merged_audio.export(os.path.join(input_folder, output_file), format='mp3')\n"
   ]
  },
  {
   "cell_type": "code",
   "execution_count": null,
   "metadata": {},
   "outputs": [],
   "source": [
    "merged_output_file = \"merged_playlist.mp3\"\n",
    "merge_mp3_files(output_folder, merged_output_file)    \n",
    "print(\"MP3 files merged successfully.\")"
   ]
  },
  {
   "cell_type": "markdown",
   "metadata": {},
   "source": [
    "## Final"
   ]
  },
  {
   "cell_type": "code",
   "execution_count": null,
   "metadata": {},
   "outputs": [],
   "source": [
    "from pytube import YouTube, Playlist\n",
    "import os\n",
    "import moviepy.editor as mp\n",
    "import re\n",
    "from datetime import datetime\n",
    "from pydub import AudioSegment\n",
    "\n",
    "\n",
    "def download_playlist(playlist_url, output_folder):\n",
    "    playlist = Playlist(playlist_url)\n",
    "    os.makedirs(output_folder, exist_ok=True)\n",
    "    \n",
    "    for url in playlist:\n",
    "        video = YouTube(url)\n",
    "        stream = video.streams.filter(file_extension=\"mp4\", only_audio=True).first()\n",
    "        if stream:\n",
    "            print(f\"Downloading: {video.title}\")\n",
    "            stream.download(output_folder)\n",
    "\n",
    "\n",
    "playlist_url = input(\"Enter the YouTube playlist URL: \")\n",
    "current_time = datetime.now().strftime(\"%H_%M_%S\")\n",
    "output_folder = f\"new_down_{current_time}\"\n",
    "\n",
    "\n",
    "download_playlist(playlist_url, output_folder)\n",
    "\n",
    "\n",
    "def convert_to_mp3(folder):\n",
    "    current_directory = os.getcwd()\n",
    "    subfolder_path = os.path.join(current_directory, output_folder)\n",
    "    subfolder_items = os.listdir(subfolder_path)\n",
    "\n",
    "    files_sorted_by_creation = sorted(\n",
    "        [item for item in subfolder_items if os.path.isfile(os.path.join(subfolder_path, item))],\n",
    "        key=lambda item: os.path.getctime(os.path.join(subfolder_path, item))\n",
    "    )\n",
    "\n",
    "    mp3s_subfolder_path = os.path.join(subfolder_path, \"mp3s\")\n",
    "    os.makedirs(mp3s_subfolder_path, exist_ok=True)\n",
    "\n",
    "    for file in files_sorted_by_creation:\n",
    "        if re.search('.mp4', file):\n",
    "            mp4_path = os.path.join(folder, file)\n",
    "            mp3_filename = os.path.splitext(file)[0] + '.mp3'\n",
    "            mp3_path = os.path.join(mp3s_subfolder_path, mp3_filename)\n",
    "            new_file = mp.AudioFileClip(mp4_path)\n",
    "            new_file.write_audiofile(mp3_path)\n",
    "\n",
    "\n",
    "convert_to_mp3(output_folder)\n",
    "print(\"Playlist downloaded and converted to MP3 successfully.\")\n",
    "\n",
    "\n",
    "def merge_mp3_files(input_folder, output_file):\n",
    "    input_folder = input_folder + \"/mp3s\"\n",
    "    subfolder_items = os.listdir(input_folder)\n",
    "    files_sorted_by_creation = sorted(\n",
    "        [item for item in subfolder_items if os.path.isfile(os.path.join(input_folder, item))],\n",
    "        key=lambda item: os.path.getctime(os.path.join(input_folder, item))\n",
    "    )\n",
    "\n",
    "    merged_audio = AudioSegment.silent(duration=0)\n",
    "\n",
    "    for idx, file in enumerate(files_sorted_by_creation):\n",
    "        print(\"merging\", file)\n",
    "        audio = AudioSegment.from_mp3(os.path.join(input_folder, file))\n",
    "        if idx > 0:\n",
    "            silence = AudioSegment.silent(duration=1000)  # 1 second silence\n",
    "            merged_audio += silence\n",
    "        merged_audio += audio\n",
    "\n",
    "    merged_audio.export(os.path.join(input_folder, output_file), format='mp3')\n",
    "\n",
    "\n",
    "merged_output_file = \"merged_playlist.mp3\"\n",
    "merge_mp3_files(output_folder, merged_output_file)    \n",
    "print(\"MP3 files merged successfully.\")"
   ]
  },
  {
   "cell_type": "code",
   "execution_count": null,
   "metadata": {},
   "outputs": [],
   "source": []
  }
 ],
 "metadata": {
  "kernelspec": {
   "display_name": "Python 3.10.6 64-bit",
   "language": "python",
   "name": "python3"
  },
  "language_info": {
   "codemirror_mode": {
    "name": "ipython",
    "version": 3
   },
   "file_extension": ".py",
   "mimetype": "text/x-python",
   "name": "python",
   "nbconvert_exporter": "python",
   "pygments_lexer": "ipython3",
   "version": "3.9.13"
  },
  "orig_nbformat": 4,
  "vscode": {
   "interpreter": {
    "hash": "916dbcbb3f70747c44a77c7bcd40155683ae19c65e1c03b4aa3499c5328201f1"
   }
  }
 },
 "nbformat": 4,
 "nbformat_minor": 2
}
